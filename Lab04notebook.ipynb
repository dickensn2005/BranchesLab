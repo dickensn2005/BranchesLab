{
 "cells": [
  {
   "cell_type": "markdown",
   "id": "b585dff2-6075-42aa-acdc-3ad2679b1f8a",
   "metadata": {},
   "source": [
    "**Title**"
   ]
  },
  {
   "cell_type": "markdown",
   "id": "9846a4a6-ed3d-48e7-9358-5bd77e6d14d8",
   "metadata": {},
   "source": [
    "Author: Nina Dickens"
   ]
  },
  {
   "cell_type": "code",
   "execution_count": 1,
   "id": "79482f1f-3c5f-4575-b7c8-e554bd382eb8",
   "metadata": {},
   "outputs": [],
   "source": [
    "import numpy as np"
   ]
  },
  {
   "cell_type": "code",
   "execution_count": 2,
   "id": "82f7da5e-84e3-4bbb-aba0-56fc005ee30d",
   "metadata": {},
   "outputs": [],
   "source": [
    "x = np.linspace(0,10,100)"
   ]
  },
  {
   "cell_type": "code",
   "execution_count": 3,
   "id": "c82d9a43-0d5a-4402-a77d-c3532a753a2c",
   "metadata": {},
   "outputs": [],
   "source": [
    "foo = lambda x:x**2"
   ]
  },
  {
   "cell_type": "code",
   "execution_count": 4,
   "id": "03a9e211-c98a-4c7b-965f-56c2d3b22805",
   "metadata": {},
   "outputs": [],
   "source": [
    "y = list(map(foo,x))"
   ]
  },
  {
   "cell_type": "code",
   "execution_count": 10,
   "id": "ba73f7d4-9973-409a-a01f-487d37ef7c3f",
   "metadata": {},
   "outputs": [
    {
     "data": {
      "text/plain": [
       "14"
      ]
     },
     "execution_count": 10,
     "metadata": {},
     "output_type": "execute_result"
    }
   ],
   "source": [
    "3+5+6"
   ]
  },
  {
   "cell_type": "code",
   "execution_count": null,
   "id": "e7031a28-ebd0-4032-8d54-877f4fb5d7bc",
   "metadata": {},
   "outputs": [],
   "source": []
  }
 ],
 "metadata": {
  "jupytext": {
   "formats": "ipynb,md"
  },
  "kernelspec": {
   "display_name": "Python 3 (ipykernel)",
   "language": "python",
   "name": "python3"
  },
  "language_info": {
   "codemirror_mode": {
    "name": "ipython",
    "version": 3
   },
   "file_extension": ".py",
   "mimetype": "text/x-python",
   "name": "python",
   "nbconvert_exporter": "python",
   "pygments_lexer": "ipython3",
   "version": "3.9.9"
  }
 },
 "nbformat": 4,
 "nbformat_minor": 5
}
